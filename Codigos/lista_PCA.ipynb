{
 "cells": [
  {
   "cell_type": "markdown",
   "metadata": {},
   "source": [
    "# Lista 1: PCA"
   ]
  },
  {
   "cell_type": "code",
   "execution_count": 127,
   "metadata": {},
   "outputs": [],
   "source": [
    "import pandas as pd\n",
    "import numpy as np\n",
    "from sklearn.decomposition import PCA\n",
    "from sklearn.preprocessing import StandardScaler"
   ]
  },
  {
   "cell_type": "markdown",
   "metadata": {},
   "source": [
    "## Questão 2"
   ]
  },
  {
   "cell_type": "markdown",
   "metadata": {},
   "source": [
    "As 10 maiores empresas do mundo produzem os seguintes dados\n",
    "\n",
    "1. Calcule o vetor de medias e a matriz de covariancias\n",
    "2. Determine os componentes principais amostral e suas variâncias para esses\n",
    "dados\n",
    "3. Encontre a proporção da variância amostral total explicada por yˆ1\n",
    "4. Calcule os coecientes de correlação. Que interpretação, se\n",
    "houver, você pode dar ao primeiro componente principal?"
   ]
  },
  {
   "cell_type": "markdown",
   "metadata": {},
   "source": [
    "### Solução"
   ]
  },
  {
   "cell_type": "markdown",
   "metadata": {},
   "source": [
    "1. Calcule o vetor de médias e a matriz de covariâncias"
   ]
  },
  {
   "cell_type": "code",
   "execution_count": 128,
   "metadata": {},
   "outputs": [],
   "source": [
    "BD_banks = pd.DataFrame({'vendas': [108.28,152.36,95.04,65.45,62.97,263.99,265.19,285.06,92.01,165.68],\n",
    "                        'lucros': [17.05, 16.59, 10.91,14.14,9.52,25.33,18.54,15.73,8.10,11.13], \n",
    "                        'ativos': [1484.10,750.33,766.42,1110.46,1031.29,195.26,193.83,191.11,1175.16,211.15]})\n",
    "#index=[\"Citigroup\",\"General Electric\",\"American Intl Group\",\"Bank of America\",\"HSBC Group\", \"ExxonMobil\",\n",
    "#                               \"Royal Dutch/Shell\",\"BP\",\"ING Group\",\"Toyota Motor\"]"
   ]
  },
  {
   "cell_type": "code",
   "execution_count": 131,
   "metadata": {},
   "outputs": [
    {
     "data": {
      "text/html": [
       "<div>\n",
       "<style scoped>\n",
       "    .dataframe tbody tr th:only-of-type {\n",
       "        vertical-align: middle;\n",
       "    }\n",
       "\n",
       "    .dataframe tbody tr th {\n",
       "        vertical-align: top;\n",
       "    }\n",
       "\n",
       "    .dataframe thead th {\n",
       "        text-align: right;\n",
       "    }\n",
       "</style>\n",
       "<table border=\"1\" class=\"dataframe\">\n",
       "  <thead>\n",
       "    <tr style=\"text-align: right;\">\n",
       "      <th></th>\n",
       "      <th>vendas</th>\n",
       "      <th>lucros</th>\n",
       "      <th>ativos</th>\n",
       "    </tr>\n",
       "  </thead>\n",
       "  <tbody>\n",
       "    <tr>\n",
       "      <th>Citigroup</th>\n",
       "      <td>108.28</td>\n",
       "      <td>17.05</td>\n",
       "      <td>1484.10</td>\n",
       "    </tr>\n",
       "    <tr>\n",
       "      <th>General Electric</th>\n",
       "      <td>152.36</td>\n",
       "      <td>16.59</td>\n",
       "      <td>750.33</td>\n",
       "    </tr>\n",
       "    <tr>\n",
       "      <th>American Intl Group</th>\n",
       "      <td>95.04</td>\n",
       "      <td>10.91</td>\n",
       "      <td>766.42</td>\n",
       "    </tr>\n",
       "    <tr>\n",
       "      <th>Bank of America</th>\n",
       "      <td>65.45</td>\n",
       "      <td>14.14</td>\n",
       "      <td>1110.46</td>\n",
       "    </tr>\n",
       "    <tr>\n",
       "      <th>HSBC Group</th>\n",
       "      <td>62.97</td>\n",
       "      <td>9.52</td>\n",
       "      <td>1031.29</td>\n",
       "    </tr>\n",
       "    <tr>\n",
       "      <th>ExxonMobil</th>\n",
       "      <td>263.99</td>\n",
       "      <td>25.33</td>\n",
       "      <td>195.26</td>\n",
       "    </tr>\n",
       "    <tr>\n",
       "      <th>Royal Dutch/Shell</th>\n",
       "      <td>265.19</td>\n",
       "      <td>18.54</td>\n",
       "      <td>193.83</td>\n",
       "    </tr>\n",
       "    <tr>\n",
       "      <th>BP</th>\n",
       "      <td>285.06</td>\n",
       "      <td>15.73</td>\n",
       "      <td>191.11</td>\n",
       "    </tr>\n",
       "    <tr>\n",
       "      <th>ING Group</th>\n",
       "      <td>92.01</td>\n",
       "      <td>8.10</td>\n",
       "      <td>1175.16</td>\n",
       "    </tr>\n",
       "    <tr>\n",
       "      <th>Toyota Motor</th>\n",
       "      <td>165.68</td>\n",
       "      <td>11.13</td>\n",
       "      <td>211.15</td>\n",
       "    </tr>\n",
       "  </tbody>\n",
       "</table>\n",
       "</div>"
      ],
      "text/plain": [
       "                     vendas  lucros   ativos\n",
       "Citigroup            108.28   17.05  1484.10\n",
       "General Electric     152.36   16.59   750.33\n",
       "American Intl Group   95.04   10.91   766.42\n",
       "Bank of America       65.45   14.14  1110.46\n",
       "HSBC Group            62.97    9.52  1031.29\n",
       "ExxonMobil           263.99   25.33   195.26\n",
       "Royal Dutch/Shell    265.19   18.54   193.83\n",
       "BP                   285.06   15.73   191.11\n",
       "ING Group             92.01    8.10  1175.16\n",
       "Toyota Motor         165.68   11.13   211.15"
      ]
     },
     "execution_count": 131,
     "metadata": {},
     "output_type": "execute_result"
    }
   ],
   "source": [
    "BD_banks"
   ]
  },
  {
   "cell_type": "code",
   "execution_count": 130,
   "metadata": {},
   "outputs": [
    {
     "data": {
      "text/html": [
       "<div>\n",
       "<style scoped>\n",
       "    .dataframe tbody tr th:only-of-type {\n",
       "        vertical-align: middle;\n",
       "    }\n",
       "\n",
       "    .dataframe tbody tr th {\n",
       "        vertical-align: top;\n",
       "    }\n",
       "\n",
       "    .dataframe thead th {\n",
       "        text-align: right;\n",
       "    }\n",
       "</style>\n",
       "<table border=\"1\" class=\"dataframe\">\n",
       "  <thead>\n",
       "    <tr style=\"text-align: right;\">\n",
       "      <th></th>\n",
       "      <th>vendas</th>\n",
       "      <th>lucros</th>\n",
       "      <th>ativos</th>\n",
       "    </tr>\n",
       "  </thead>\n",
       "  <tbody>\n",
       "    <tr>\n",
       "      <th>vendas</th>\n",
       "      <td>7476.453246</td>\n",
       "      <td>303.618620</td>\n",
       "      <td>-35575.959570</td>\n",
       "    </tr>\n",
       "    <tr>\n",
       "      <th>lucros</th>\n",
       "      <td>303.618620</td>\n",
       "      <td>26.190316</td>\n",
       "      <td>-1053.827393</td>\n",
       "    </tr>\n",
       "    <tr>\n",
       "      <th>ativos</th>\n",
       "      <td>-35575.959570</td>\n",
       "      <td>-1053.827393</td>\n",
       "      <td>237054.269832</td>\n",
       "    </tr>\n",
       "  </tbody>\n",
       "</table>\n",
       "</div>"
      ],
      "text/plain": [
       "              vendas       lucros         ativos\n",
       "vendas   7476.453246   303.618620  -35575.959570\n",
       "lucros    303.618620    26.190316   -1053.827393\n",
       "ativos -35575.959570 -1053.827393  237054.269832"
      ]
     },
     "execution_count": 130,
     "metadata": {},
     "output_type": "execute_result"
    }
   ],
   "source": [
    "BD_banks.mean()\n",
    "BD_banks.cov()"
   ]
  },
  {
   "cell_type": "code",
   "execution_count": 134,
   "metadata": {},
   "outputs": [
    {
     "data": {
      "text/plain": [
       "array([[ 7.47645325e+03,  3.03618620e+02, -3.55759596e+04],\n",
       "       [ 3.03618620e+02,  2.61903156e+01, -1.05382739e+03],\n",
       "       [-3.55759596e+04, -1.05382739e+03,  2.37054270e+05]])"
      ]
     },
     "execution_count": 134,
     "metadata": {},
     "output_type": "execute_result"
    }
   ],
   "source": [
    "x=np.matrix(BD_banks)\n",
    "S=np.cov(np.transpose(BD_banks))\n",
    "S"
   ]
  },
  {
   "cell_type": "code",
   "execution_count": 135,
   "metadata": {},
   "outputs": [
    {
     "data": {
      "text/plain": [
       "array([[ 7.71541815e+02,  6.91972904e+01,  1.07824985e+00],\n",
       "       [ 3.94514085e+01,  2.82956711e+00,  1.87390575e+00],\n",
       "       [ 6.39664842e+01, -5.16895410e+01,  2.70674920e-02],\n",
       "       [ 4.08541182e+02, -2.91666323e+01,  3.27039118e+00],\n",
       "       [ 3.30656167e+02, -4.37772333e+01, -7.09377361e-01],\n",
       "       [-5.26108468e+02,  3.04643264e+01,  6.19777699e+00],\n",
       "       [-5.27671527e+02,  3.09697181e+01, -6.49881405e-01],\n",
       "       [-5.33322878e+02,  4.99697107e+01, -4.79402286e+00],\n",
       "       [ 4.68562332e+02,  6.30137190e+00, -4.94467565e+00],\n",
       "       [-4.95616516e+02, -6.50985779e+01, -1.34943398e+00]])"
      ]
     },
     "execution_count": 135,
     "metadata": {},
     "output_type": "execute_result"
    }
   ],
   "source": [
    "#Componentes principais\n",
    "pca_banks = PCA(n_components=3)\n",
    "pca_banks.fit(np.asarray(x))\n",
    "pca_banks.transform(np.asarray(x))"
   ]
  },
  {
   "cell_type": "code",
   "execution_count": 136,
   "metadata": {},
   "outputs": [
    {
     "data": {
      "text/plain": [
       "array([[ 0.6364391 ,  0.51558083, -0.57369128],\n",
       "       [-0.11086829,  0.79719669,  0.59345232],\n",
       "       [ 0.76331743, -0.31409209,  0.56452871]])"
      ]
     },
     "execution_count": 136,
     "metadata": {},
     "output_type": "execute_result"
    }
   ],
   "source": [
    "pca.components_"
   ]
  },
  {
   "cell_type": "code",
   "execution_count": 138,
   "metadata": {},
   "outputs": [
    {
     "data": {
      "text/plain": [
       "array([0.99, 0.01, 0.  ])"
      ]
     },
     "execution_count": 138,
     "metadata": {},
     "output_type": "execute_result"
    }
   ],
   "source": [
    "np.round(pca_banks.explained_variance_ratio_,2)"
   ]
  },
  {
   "cell_type": "code",
   "execution_count": 149,
   "metadata": {},
   "outputs": [
    {
     "data": {
      "text/plain": [
       "matrix([[ 0.14970488,  0.98637086, -0.06827133],\n",
       "        [ 0.00448559,  0.06837121,  0.99764987],\n",
       "        [-0.98872055,  0.14965929, -0.00581105]])"
      ]
     },
     "execution_count": 149,
     "metadata": {},
     "output_type": "execute_result"
    }
   ],
   "source": [
    "# Respondendo a letra b\n",
    "autovalues, autovectors = np.linalg.eig(np.matrix(S))\n",
    "autovectors"
   ]
  },
  {
   "cell_type": "code",
   "execution_count": 151,
   "metadata": {},
   "outputs": [
    {
     "data": {
      "text/plain": [
       "array([0.991, 0.009, 0.   ])"
      ]
     },
     "execution_count": 151,
     "metadata": {},
     "output_type": "execute_result"
    }
   ],
   "source": [
    "np.round(pca_banks.explained_variance_ratio_,3)\n"
   ]
  },
  {
   "cell_type": "code",
   "execution_count": 152,
   "metadata": {},
   "outputs": [
    {
     "data": {
      "text/plain": [
       "array([[ 7.71541815e+02,  6.91972904e+01,  1.07824985e+00],\n",
       "       [ 3.94514085e+01,  2.82956711e+00,  1.87390575e+00],\n",
       "       [ 6.39664842e+01, -5.16895410e+01,  2.70674920e-02],\n",
       "       [ 4.08541182e+02, -2.91666323e+01,  3.27039118e+00],\n",
       "       [ 3.30656167e+02, -4.37772333e+01, -7.09377361e-01],\n",
       "       [-5.26108468e+02,  3.04643264e+01,  6.19777699e+00],\n",
       "       [-5.27671527e+02,  3.09697181e+01, -6.49881405e-01],\n",
       "       [-5.33322878e+02,  4.99697107e+01, -4.79402286e+00],\n",
       "       [ 4.68562332e+02,  6.30137190e+00, -4.94467565e+00],\n",
       "       [-4.95616516e+02, -6.50985779e+01, -1.34943398e+00]])"
      ]
     },
     "execution_count": 152,
     "metadata": {},
     "output_type": "execute_result"
    }
   ],
   "source": [
    "pca_banks.fit_transform(np.asarray(x))"
   ]
  }
 ],
 "metadata": {
  "kernelspec": {
   "display_name": "Python 3",
   "language": "python",
   "name": "python3"
  },
  "language_info": {
   "codemirror_mode": {
    "name": "ipython",
    "version": 3
   },
   "file_extension": ".py",
   "mimetype": "text/x-python",
   "name": "python",
   "nbconvert_exporter": "python",
   "pygments_lexer": "ipython3",
   "version": "3.10.12"
  },
  "orig_nbformat": 4
 },
 "nbformat": 4,
 "nbformat_minor": 2
}

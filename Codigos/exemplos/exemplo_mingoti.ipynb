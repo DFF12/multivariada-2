{
 "cells": [
  {
   "cell_type": "code",
   "execution_count": 2,
   "metadata": {},
   "outputs": [],
   "source": [
    "import pandas as pd\n",
    "import numpy as np "
   ]
  },
  {
   "cell_type": "code",
   "execution_count": 7,
   "metadata": {},
   "outputs": [],
   "source": [
    "empresa = pd.DataFrame({\"ganhoBruto\": [9893,8776,13572,6455,5129,5432,3807,3423,3708,3294,5433,6287], \n",
    "                        \"liquido\": [564,389,1103,743,203,215,385,187,127,297,432,451], \n",
    "                        \"patrimonio\": [17689,17359,18597,8745,14397,3467,4679,6754,2275,6754,5589,8972]}, \n",
    "                        index=[\"Empresa 1\",\"Empresa 2\",\"Empresa 3\",\"Empresa 4\",\"Empresa 5\",\"Empresa 6\",\n",
    "                               \"Empresa 7\",\"Empresa 8\",\"Empresa 9\",\"Empresa 10\",\"Empresa 11\",\"Empresa 12\"])"
   ]
  },
  {
   "cell_type": "code",
   "execution_count": 26,
   "metadata": {},
   "outputs": [
    {
     "data": {
      "text/html": [
       "<div>\n",
       "<style scoped>\n",
       "    .dataframe tbody tr th:only-of-type {\n",
       "        vertical-align: middle;\n",
       "    }\n",
       "\n",
       "    .dataframe tbody tr th {\n",
       "        vertical-align: top;\n",
       "    }\n",
       "\n",
       "    .dataframe thead th {\n",
       "        text-align: right;\n",
       "    }\n",
       "</style>\n",
       "<table border=\"1\" class=\"dataframe\">\n",
       "  <thead>\n",
       "    <tr style=\"text-align: right;\">\n",
       "      <th></th>\n",
       "      <th>ganhoBruto</th>\n",
       "      <th>liquido</th>\n",
       "      <th>patrimonio</th>\n",
       "    </tr>\n",
       "  </thead>\n",
       "  <tbody>\n",
       "    <tr>\n",
       "      <th>ganhoBruto</th>\n",
       "      <td>9.550609e+06</td>\n",
       "      <td>706121.060606</td>\n",
       "      <td>1.497823e+07</td>\n",
       "    </tr>\n",
       "    <tr>\n",
       "      <th>liquido</th>\n",
       "      <td>7.061211e+05</td>\n",
       "      <td>76269.515152</td>\n",
       "      <td>9.339151e+05</td>\n",
       "    </tr>\n",
       "    <tr>\n",
       "      <th>patrimonio</th>\n",
       "      <td>1.497823e+07</td>\n",
       "      <td>933915.060606</td>\n",
       "      <td>3.440811e+07</td>\n",
       "    </tr>\n",
       "  </tbody>\n",
       "</table>\n",
       "</div>"
      ],
      "text/plain": [
       "              ganhoBruto        liquido    patrimonio\n",
       "ganhoBruto  9.550609e+06  706121.060606  1.497823e+07\n",
       "liquido     7.061211e+05   76269.515152  9.339151e+05\n",
       "patrimonio  1.497823e+07  933915.060606  3.440811e+07"
      ]
     },
     "execution_count": 26,
     "metadata": {},
     "output_type": "execute_result"
    }
   ],
   "source": [
    "#Covariancia\n",
    "S=empresa.cov()\n",
    "S"
   ]
  },
  {
   "cell_type": "code",
   "execution_count": 24,
   "metadata": {},
   "outputs": [],
   "source": [
    "#autovalores e autovetores\n",
    "autovalores,autovetores = np.linalg.eig(S)\n"
   ]
  },
  {
   "cell_type": "code",
   "execution_count": 12,
   "metadata": {},
   "outputs": [
    {
     "data": {
      "text/plain": [
       "array([4.14743915e+07, 2.53950713e+06, 2.10925256e+04])"
      ]
     },
     "execution_count": 12,
     "metadata": {},
     "output_type": "execute_result"
    }
   ],
   "source": [
    "autovalores"
   ]
  },
  {
   "cell_type": "code",
   "execution_count": 15,
   "metadata": {},
   "outputs": [
    {
     "data": {
      "text/plain": [
       "array([[ 0.42509725,  0.8997068 ,  0.09909593],\n",
       "       [ 0.02766083,  0.09651661, -0.99494694],\n",
       "       [ 0.90472493, -0.42569029, -0.01614231]])"
      ]
     },
     "execution_count": 15,
     "metadata": {},
     "output_type": "execute_result"
    }
   ],
   "source": [
    "autovetores"
   ]
  },
  {
   "cell_type": "code",
   "execution_count": 16,
   "metadata": {},
   "outputs": [
    {
     "data": {
      "text/plain": [
       "array([9.41850797e-01, 5.76702086e-02, 4.78994659e-04])"
      ]
     },
     "execution_count": 16,
     "metadata": {},
     "output_type": "execute_result"
    }
   ],
   "source": [
    "var_expl = autovalores/sum(autovalores);var_expl"
   ]
  },
  {
   "cell_type": "code",
   "execution_count": 23,
   "metadata": {},
   "outputs": [
    {
     "data": {
      "text/html": [
       "<div>\n",
       "<style scoped>\n",
       "    .dataframe tbody tr th:only-of-type {\n",
       "        vertical-align: middle;\n",
       "    }\n",
       "\n",
       "    .dataframe tbody tr th {\n",
       "        vertical-align: top;\n",
       "    }\n",
       "\n",
       "    .dataframe thead th {\n",
       "        text-align: right;\n",
       "    }\n",
       "</style>\n",
       "<table border=\"1\" class=\"dataframe\">\n",
       "  <thead>\n",
       "    <tr style=\"text-align: right;\">\n",
       "      <th></th>\n",
       "      <th>0</th>\n",
       "      <th>1</th>\n",
       "      <th>2</th>\n",
       "    </tr>\n",
       "  </thead>\n",
       "  <tbody>\n",
       "    <tr>\n",
       "      <th>0</th>\n",
       "      <td>20224.767165</td>\n",
       "      <td>1425.199249</td>\n",
       "      <td>133.664639</td>\n",
       "    </tr>\n",
       "    <tr>\n",
       "      <th>1</th>\n",
       "      <td>19446.533662</td>\n",
       "      <td>543.814143</td>\n",
       "      <td>202.417162</td>\n",
       "    </tr>\n",
       "    <tr>\n",
       "      <th>2</th>\n",
       "      <td>22625.099378</td>\n",
       "      <td>4400.716235</td>\n",
       "      <td>-52.695049</td>\n",
       "    </tr>\n",
       "    <tr>\n",
       "      <th>3</th>\n",
       "      <td>10676.374297</td>\n",
       "      <td>2156.657672</td>\n",
       "      <td>-240.745849</td>\n",
       "    </tr>\n",
       "    <tr>\n",
       "      <th>4</th>\n",
       "      <td>15211.263820</td>\n",
       "      <td>-1494.474013</td>\n",
       "      <td>73.887955</td>\n",
       "    </tr>\n",
       "    <tr>\n",
       "      <th>5</th>\n",
       "      <td>5451.756691</td>\n",
       "      <td>3432.090178</td>\n",
       "      <td>268.410116</td>\n",
       "    </tr>\n",
       "    <tr>\n",
       "      <th>6</th>\n",
       "      <td>5862.202619</td>\n",
       "      <td>1470.537827</td>\n",
       "      <td>-81.326234</td>\n",
       "    </tr>\n",
       "    <tr>\n",
       "      <th>7</th>\n",
       "      <td>7570.792668</td>\n",
       "      <td>222.632783</td>\n",
       "      <td>44.125128</td>\n",
       "    </tr>\n",
       "    <tr>\n",
       "      <th>8</th>\n",
       "      <td>3638.022756</td>\n",
       "      <td>2379.925017</td>\n",
       "      <td>204.365696</td>\n",
       "    </tr>\n",
       "    <tr>\n",
       "      <th>9</th>\n",
       "      <td>7518.997813</td>\n",
       "      <td>117.187433</td>\n",
       "      <td>-78.102411</td>\n",
       "    </tr>\n",
       "    <tr>\n",
       "      <th>10</th>\n",
       "      <td>7378.010497</td>\n",
       "      <td>2550.619202</td>\n",
       "      <td>18.351742</td>\n",
       "    </tr>\n",
       "    <tr>\n",
       "      <th>11</th>\n",
       "      <td>10802.253556</td>\n",
       "      <td>1880.692384</td>\n",
       "      <td>29.466238</td>\n",
       "    </tr>\n",
       "  </tbody>\n",
       "</table>\n",
       "</div>"
      ],
      "text/plain": [
       "               0            1           2\n",
       "0   20224.767165  1425.199249  133.664639\n",
       "1   19446.533662   543.814143  202.417162\n",
       "2   22625.099378  4400.716235  -52.695049\n",
       "3   10676.374297  2156.657672 -240.745849\n",
       "4   15211.263820 -1494.474013   73.887955\n",
       "5    5451.756691  3432.090178  268.410116\n",
       "6    5862.202619  1470.537827  -81.326234\n",
       "7    7570.792668   222.632783   44.125128\n",
       "8    3638.022756  2379.925017  204.365696\n",
       "9    7518.997813   117.187433  -78.102411\n",
       "10   7378.010497  2550.619202   18.351742\n",
       "11  10802.253556  1880.692384   29.466238"
      ]
     },
     "execution_count": 23,
     "metadata": {},
     "output_type": "execute_result"
    }
   ],
   "source": [
    "#Scores\n",
    "scores = np.matmul(autovetores.T, np.matrix(empresa).T).T\n",
    "pd.DataFrame(scores)"
   ]
  }
 ],
 "metadata": {
  "kernelspec": {
   "display_name": "Python 3",
   "language": "python",
   "name": "python3"
  },
  "language_info": {
   "codemirror_mode": {
    "name": "ipython",
    "version": 3
   },
   "file_extension": ".py",
   "mimetype": "text/x-python",
   "name": "python",
   "nbconvert_exporter": "python",
   "pygments_lexer": "ipython3",
   "version": "3.10.12"
  },
  "orig_nbformat": 4
 },
 "nbformat": 4,
 "nbformat_minor": 2
}

{
 "cells": [
  {
   "cell_type": "markdown",
   "metadata": {},
   "source": [
    "# Dados padronizados"
   ]
  },
  {
   "cell_type": "code",
   "execution_count": 19,
   "metadata": {},
   "outputs": [],
   "source": [
    "import pandas as pd\n",
    "import numpy as np\n",
    "import seaborn as sns\n",
    "import matplotlib.pyplot as plt\n",
    "from sklearn.decomposition import PCA\n",
    "from sklearn.preprocessing import StandardScaler\n",
    "%matplotlib inline"
   ]
  },
  {
   "cell_type": "code",
   "execution_count": 20,
   "metadata": {},
   "outputs": [],
   "source": [
    "BD_dec = pd.read_csv(\"../Banco/decathlon(1).csv\",  index_col=0)"
   ]
  },
  {
   "cell_type": "code",
   "execution_count": 21,
   "metadata": {},
   "outputs": [],
   "source": [
    "BD_dec_rd = BD_dec.drop(['Rank', 'Points', 'Competition'], axis=1)\n"
   ]
  },
  {
   "cell_type": "markdown",
   "metadata": {},
   "source": [
    "## Padronização e obtenção do autovetor e autovalor"
   ]
  },
  {
   "cell_type": "code",
   "execution_count": 22,
   "metadata": {},
   "outputs": [],
   "source": [
    "z_score = (BD_dec_rd-BD_dec_rd.mean())/BD_dec_rd.std()\n",
    "\n",
    "corr_z = z_score.corr()\n",
    "data_corr_z = np.asmatrix(corr_z)\n",
    "autovalues, autovectors = np.linalg.eig(data_corr_z)"
   ]
  },
  {
   "cell_type": "markdown",
   "metadata": {},
   "source": [
    "## Porcentagem de explicação da variavel"
   ]
  },
  {
   "cell_type": "code",
   "execution_count": 23,
   "metadata": {},
   "outputs": [
    {
     "data": {
      "text/plain": [
       "array([0.32719055, 0.1737131 , 0.14049167, 0.10568504, 0.06847735,\n",
       "       0.05992687, 0.04512353, 0.03968766, 0.01822275, 0.02148149])"
      ]
     },
     "execution_count": 23,
     "metadata": {},
     "output_type": "execute_result"
    }
   ],
   "source": [
    "var_expl = autovalues/sum(autovalues);var_expl"
   ]
  },
  {
   "cell_type": "markdown",
   "metadata": {},
   "source": [
    "## Transformação do PCA"
   ]
  },
  {
   "cell_type": "code",
   "execution_count": 25,
   "metadata": {},
   "outputs": [
    {
     "name": "stdout",
     "output_type": "stream",
     "text": [
      "Dados transformados\n",
      "[[ 1.49204934e+00 -1.29872609e-01 -2.65542779e-01 -3.49637678e-01\n",
      "   1.50822380e-01]\n",
      " [-1.27109820e+00  6.30154568e-01 -3.51132874e-01 -2.93519534e-01\n",
      "  -2.77909771e-01]\n",
      " [-1.00919393e+00 -3.99493625e-01  1.51473363e-01  2.40513805e-01\n",
      "   2.69422939e-01]\n",
      " [-9.34169617e-01 -3.93220967e-01 -1.26724258e-01 -4.10671539e-01\n",
      "   5.36442633e-02]\n",
      " [ 1.34258636e+00 -2.31502364e-01  2.78466213e-01  9.25811458e-02\n",
      "  -1.68237174e-01]\n",
      " [ 1.44699973e+00 -3.82166970e-02 -3.05747243e-01 -3.68002711e-04\n",
      "  -5.44160353e-03]\n",
      " [-8.86238901e-01 -4.31900021e-01  4.20934793e-01 -9.13287738e-02\n",
      "   6.26335127e-02]\n",
      " [-2.12005877e-03  1.00181342e+00 -5.75324773e-02  2.14567181e-01\n",
      "   3.11173242e-01]\n",
      " [-3.98567812e-01 -3.41954297e-01 -5.97790996e-01  5.30403413e-01\n",
      "  -1.95187639e-01]\n",
      " [ 2.19753088e-01  3.34192594e-01  8.53596259e-01  6.74599822e-02\n",
      "  -2.00920150e-01]]\n",
      "dados originais\n",
      "[[ 1.         -0.59867767 -0.35648227 -0.24625292  0.52029815  0.57988893\n",
      "  -0.22170757 -0.08253683 -0.15774645 -0.06054645]\n",
      " [-0.59867767  1.          0.18330436  0.29464444 -0.60206262 -0.50541009\n",
      "   0.19431009  0.20401411  0.11975893 -0.03368613]\n",
      " [-0.35648227  0.18330436  1.          0.48921153 -0.13843292 -0.25161571\n",
      "   0.6157681   0.06118185  0.37495551  0.11580306]\n",
      " [-0.24625292  0.29464444  0.48921153  1.         -0.18795693 -0.28328909\n",
      "   0.36921834 -0.15618074  0.17188009 -0.04490252]\n",
      " [ 0.52029815 -0.60206262 -0.13843292 -0.18795693  1.          0.54798776\n",
      "  -0.11787936 -0.07929247  0.0042321   0.40810643]\n",
      " [ 0.57988893 -0.50541009 -0.25161571 -0.28328909  0.54798776  1.\n",
      "  -0.32620096 -0.00270388  0.00874325  0.03754024]\n",
      " [-0.22170757  0.19431009  0.6157681   0.36921834 -0.11787936 -0.32620096\n",
      "   1.         -0.1500724   0.1578898   0.2581751 ]\n",
      " [-0.08253683  0.20401411  0.06118185 -0.15618074 -0.07929247 -0.00270388\n",
      "  -0.1500724   1.         -0.0300006   0.24744778]\n",
      " [-0.15774645  0.11975893  0.37495551  0.17188009  0.0042321   0.00874325\n",
      "   0.1578898  -0.0300006   1.         -0.18039313]\n",
      " [-0.06054645 -0.03368613  0.11580306 -0.04490252  0.40810643  0.03754024\n",
      "   0.2581751   0.24744778 -0.18039313  1.        ]]\n"
     ]
    }
   ],
   "source": [
    "pca_dec=PCA(n_components=5)\n",
    "pca_dec.fit(np.asarray(data_corr_z))\n",
    "p=pca_dec.transform(np.asarray(data_corr_z))\n",
    "print('Dados transformados')\n",
    "print(p)\n",
    "print(\"dados originais\")\n",
    "print(data_corr_z)\n"
   ]
  }
 ],
 "metadata": {
  "kernelspec": {
   "display_name": "Python 3",
   "language": "python",
   "name": "python3"
  },
  "language_info": {
   "codemirror_mode": {
    "name": "ipython",
    "version": 3
   },
   "file_extension": ".py",
   "mimetype": "text/x-python",
   "name": "python",
   "nbconvert_exporter": "python",
   "pygments_lexer": "ipython3",
   "version": "3.10.12"
  },
  "orig_nbformat": 4
 },
 "nbformat": 4,
 "nbformat_minor": 2
}
